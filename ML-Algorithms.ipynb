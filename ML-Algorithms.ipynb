{
 "cells": [
  {
   "cell_type": "code",
   "execution_count": 1,
   "id": "21f66cf4",
   "metadata": {},
   "outputs": [],
   "source": [
    "import pandas as pd\n",
    "import numpy as np"
   ]
  },
  {
   "cell_type": "code",
   "execution_count": 2,
   "id": "348d259f",
   "metadata": {},
   "outputs": [
    {
     "data": {
      "text/html": [
       "<div>\n",
       "<style scoped>\n",
       "    .dataframe tbody tr th:only-of-type {\n",
       "        vertical-align: middle;\n",
       "    }\n",
       "\n",
       "    .dataframe tbody tr th {\n",
       "        vertical-align: top;\n",
       "    }\n",
       "\n",
       "    .dataframe thead th {\n",
       "        text-align: right;\n",
       "    }\n",
       "</style>\n",
       "<table border=\"1\" class=\"dataframe\">\n",
       "  <thead>\n",
       "    <tr style=\"text-align: right;\">\n",
       "      <th></th>\n",
       "      <th>SW</th>\n",
       "      <th>SL</th>\n",
       "      <th>PW</th>\n",
       "      <th>PL</th>\n",
       "      <th>L</th>\n",
       "    </tr>\n",
       "  </thead>\n",
       "  <tbody>\n",
       "    <tr>\n",
       "      <th>0</th>\n",
       "      <td>5.1</td>\n",
       "      <td>3.5</td>\n",
       "      <td>1.4</td>\n",
       "      <td>0.2</td>\n",
       "      <td>Iris-setosa</td>\n",
       "    </tr>\n",
       "    <tr>\n",
       "      <th>1</th>\n",
       "      <td>4.9</td>\n",
       "      <td>3.0</td>\n",
       "      <td>1.4</td>\n",
       "      <td>0.2</td>\n",
       "      <td>Iris-setosa</td>\n",
       "    </tr>\n",
       "    <tr>\n",
       "      <th>2</th>\n",
       "      <td>4.7</td>\n",
       "      <td>3.2</td>\n",
       "      <td>1.3</td>\n",
       "      <td>0.2</td>\n",
       "      <td>Iris-setosa</td>\n",
       "    </tr>\n",
       "    <tr>\n",
       "      <th>3</th>\n",
       "      <td>4.6</td>\n",
       "      <td>3.1</td>\n",
       "      <td>1.5</td>\n",
       "      <td>0.2</td>\n",
       "      <td>Iris-setosa</td>\n",
       "    </tr>\n",
       "    <tr>\n",
       "      <th>4</th>\n",
       "      <td>5.0</td>\n",
       "      <td>3.6</td>\n",
       "      <td>1.4</td>\n",
       "      <td>0.2</td>\n",
       "      <td>Iris-setosa</td>\n",
       "    </tr>\n",
       "    <tr>\n",
       "      <th>...</th>\n",
       "      <td>...</td>\n",
       "      <td>...</td>\n",
       "      <td>...</td>\n",
       "      <td>...</td>\n",
       "      <td>...</td>\n",
       "    </tr>\n",
       "    <tr>\n",
       "      <th>145</th>\n",
       "      <td>6.7</td>\n",
       "      <td>3.0</td>\n",
       "      <td>5.2</td>\n",
       "      <td>2.3</td>\n",
       "      <td>Iris-virginica</td>\n",
       "    </tr>\n",
       "    <tr>\n",
       "      <th>146</th>\n",
       "      <td>6.3</td>\n",
       "      <td>2.5</td>\n",
       "      <td>5.0</td>\n",
       "      <td>1.9</td>\n",
       "      <td>Iris-virginica</td>\n",
       "    </tr>\n",
       "    <tr>\n",
       "      <th>147</th>\n",
       "      <td>6.5</td>\n",
       "      <td>3.0</td>\n",
       "      <td>5.2</td>\n",
       "      <td>2.0</td>\n",
       "      <td>Iris-virginica</td>\n",
       "    </tr>\n",
       "    <tr>\n",
       "      <th>148</th>\n",
       "      <td>6.2</td>\n",
       "      <td>3.4</td>\n",
       "      <td>5.4</td>\n",
       "      <td>2.3</td>\n",
       "      <td>Iris-virginica</td>\n",
       "    </tr>\n",
       "    <tr>\n",
       "      <th>149</th>\n",
       "      <td>5.9</td>\n",
       "      <td>3.0</td>\n",
       "      <td>5.1</td>\n",
       "      <td>1.8</td>\n",
       "      <td>Iris-virginica</td>\n",
       "    </tr>\n",
       "  </tbody>\n",
       "</table>\n",
       "<p>150 rows × 5 columns</p>\n",
       "</div>"
      ],
      "text/plain": [
       "      SW   SL   PW   PL               L\n",
       "0    5.1  3.5  1.4  0.2     Iris-setosa\n",
       "1    4.9  3.0  1.4  0.2     Iris-setosa\n",
       "2    4.7  3.2  1.3  0.2     Iris-setosa\n",
       "3    4.6  3.1  1.5  0.2     Iris-setosa\n",
       "4    5.0  3.6  1.4  0.2     Iris-setosa\n",
       "..   ...  ...  ...  ...             ...\n",
       "145  6.7  3.0  5.2  2.3  Iris-virginica\n",
       "146  6.3  2.5  5.0  1.9  Iris-virginica\n",
       "147  6.5  3.0  5.2  2.0  Iris-virginica\n",
       "148  6.2  3.4  5.4  2.3  Iris-virginica\n",
       "149  5.9  3.0  5.1  1.8  Iris-virginica\n",
       "\n",
       "[150 rows x 5 columns]"
      ]
     },
     "execution_count": 2,
     "metadata": {},
     "output_type": "execute_result"
    }
   ],
   "source": [
    "dataframe=pd.read_csv(\"./iris.csv\",names=['SW', 'SL', 'PW', 'PL', 'L'])\n",
    "dataframe"
   ]
  },
  {
   "cell_type": "code",
   "execution_count": 3,
   "id": "1c814f77",
   "metadata": {},
   "outputs": [],
   "source": [
    "#splitting the dataset into X, the inputs and Y, the output\n",
    "features = dataframe.iloc[:, :-1].values\n",
    "labels = dataframe.iloc[:, -1].values"
   ]
  },
  {
   "cell_type": "code",
   "execution_count": 4,
   "id": "ae133b8c",
   "metadata": {},
   "outputs": [],
   "source": [
    "#splitting the dataset into train dataset and test dataset\n",
    "\n",
    "from sklearn.model_selection import train_test_split\n",
    "X_train, X_test, y_train, y_test = train_test_split(features, labels)\n"
   ]
  },
  {
   "cell_type": "code",
   "execution_count": 5,
   "id": "af834431",
   "metadata": {},
   "outputs": [
    {
     "data": {
      "text/plain": [
       "((112, 4), (38, 4), (112,), (38,))"
      ]
     },
     "execution_count": 5,
     "metadata": {},
     "output_type": "execute_result"
    }
   ],
   "source": [
    "X_train.shape, X_test.shape, y_train.shape, y_test.shape   # check for the rows of the data to be same\n"
   ]
  },
  {
   "cell_type": "markdown",
   "id": "f96d7007",
   "metadata": {},
   "source": [
    "KNN ALGORITHM"
   ]
  },
  {
   "cell_type": "code",
   "execution_count": 6,
   "id": "10d2cced",
   "metadata": {},
   "outputs": [],
   "source": [
    "from sklearn.neighbors import KNeighborsClassifier\n",
    "knn = KNeighborsClassifier().fit(X_train, y_train)\n",
    "y_pred = knn.predict(X_test)\n"
   ]
  },
  {
   "cell_type": "code",
   "execution_count": 7,
   "id": "966b6533",
   "metadata": {},
   "outputs": [
    {
     "name": "stdout",
     "output_type": "stream",
     "text": [
      "                 precision    recall  f1-score   support\n",
      "\n",
      "    Iris-setosa       1.00      1.00      1.00        12\n",
      "Iris-versicolor       0.93      1.00      0.97        14\n",
      " Iris-virginica       1.00      0.92      0.96        12\n",
      "\n",
      "       accuracy                           0.97        38\n",
      "      macro avg       0.98      0.97      0.97        38\n",
      "   weighted avg       0.98      0.97      0.97        38\n",
      "\n"
     ]
    }
   ],
   "source": [
    "from sklearn.metrics import classification_report\n",
    "print(classification_report(y_pred, y_test))\n"
   ]
  },
  {
   "cell_type": "markdown",
   "id": "f5a37e92",
   "metadata": {},
   "source": [
    "SUPPORT VECTOR MACHINE ALGORITHM"
   ]
  },
  {
   "cell_type": "code",
   "execution_count": 8,
   "id": "f19d0f0e",
   "metadata": {},
   "outputs": [],
   "source": [
    "from sklearn.svm import SVC\n"
   ]
  },
  {
   "cell_type": "code",
   "execution_count": 9,
   "id": "721c16ff",
   "metadata": {},
   "outputs": [],
   "source": [
    "#Create a svm Classifier\n",
    "svm = SVC() \n",
    "\n",
    "#Train the model using the training sets\n",
    "svm.fit(X_train, y_train)\n",
    "\n",
    "#Predict the response for test dataset\n",
    "y_pred = svm.predict(X_test)"
   ]
  },
  {
   "cell_type": "code",
   "execution_count": 10,
   "id": "a55f8036",
   "metadata": {},
   "outputs": [
    {
     "name": "stdout",
     "output_type": "stream",
     "text": [
      "                 precision    recall  f1-score   support\n",
      "\n",
      "    Iris-setosa       1.00      1.00      1.00        12\n",
      "Iris-versicolor       0.93      1.00      0.97        14\n",
      " Iris-virginica       1.00      0.92      0.96        12\n",
      "\n",
      "       accuracy                           0.97        38\n",
      "      macro avg       0.98      0.97      0.97        38\n",
      "   weighted avg       0.98      0.97      0.97        38\n",
      "\n"
     ]
    }
   ],
   "source": [
    "print(classification_report(y_pred, y_test))\n"
   ]
  },
  {
   "cell_type": "markdown",
   "id": "b70d344f",
   "metadata": {},
   "source": [
    "DECISION TREE"
   ]
  },
  {
   "cell_type": "code",
   "execution_count": 11,
   "id": "b30bbfc5",
   "metadata": {},
   "outputs": [],
   "source": [
    "from sklearn.tree import DecisionTreeClassifier"
   ]
  },
  {
   "cell_type": "code",
   "execution_count": 12,
   "id": "1cf6a6a0",
   "metadata": {},
   "outputs": [
    {
     "name": "stdout",
     "output_type": "stream",
     "text": [
      "                 precision    recall  f1-score   support\n",
      "\n",
      "    Iris-setosa       1.00      1.00      1.00        12\n",
      "Iris-versicolor       0.93      1.00      0.97        14\n",
      " Iris-virginica       1.00      0.92      0.96        12\n",
      "\n",
      "       accuracy                           0.97        38\n",
      "      macro avg       0.98      0.97      0.97        38\n",
      "   weighted avg       0.98      0.97      0.97        38\n",
      "\n"
     ]
    }
   ],
   "source": [
    "dt=DecisionTreeClassifier().fit(X_train,y_train)\n",
    "y_pred=dt.predict(X_test)\n",
    "print(classification_report(y_pred, y_test))\n"
   ]
  },
  {
   "cell_type": "code",
   "execution_count": 13,
   "id": "afb8e061",
   "metadata": {},
   "outputs": [
    {
     "data": {
      "text/plain": [
       "[Text(167.4, 195.696, 'X[3] <= 0.75\\ngini = 0.666\\nsamples = 112\\nvalue = [38, 35, 39]'),\n",
       " Text(141.64615384615385, 152.208, 'gini = 0.0\\nsamples = 38\\nvalue = [38, 0, 0]'),\n",
       " Text(193.15384615384616, 152.208, 'X[3] <= 1.75\\ngini = 0.499\\nsamples = 74\\nvalue = [0, 35, 39]'),\n",
       " Text(103.01538461538462, 108.72, 'X[2] <= 4.95\\ngini = 0.224\\nsamples = 39\\nvalue = [0, 34, 5]'),\n",
       " Text(51.50769230769231, 65.232, 'X[3] <= 1.65\\ngini = 0.057\\nsamples = 34\\nvalue = [0, 33, 1]'),\n",
       " Text(25.753846153846155, 21.744, 'gini = 0.0\\nsamples = 33\\nvalue = [0, 33, 0]'),\n",
       " Text(77.26153846153846, 21.744, 'gini = 0.0\\nsamples = 1\\nvalue = [0, 0, 1]'),\n",
       " Text(154.52307692307693, 65.232, 'X[3] <= 1.65\\ngini = 0.32\\nsamples = 5\\nvalue = [0, 1, 4]'),\n",
       " Text(128.76923076923077, 21.744, 'gini = 0.0\\nsamples = 4\\nvalue = [0, 0, 4]'),\n",
       " Text(180.27692307692308, 21.744, 'gini = 0.0\\nsamples = 1\\nvalue = [0, 1, 0]'),\n",
       " Text(283.2923076923077, 108.72, 'X[2] <= 4.85\\ngini = 0.056\\nsamples = 35\\nvalue = [0, 1, 34]'),\n",
       " Text(257.53846153846155, 65.232, 'X[1] <= 3.1\\ngini = 0.444\\nsamples = 3\\nvalue = [0, 1, 2]'),\n",
       " Text(231.7846153846154, 21.744, 'gini = 0.0\\nsamples = 2\\nvalue = [0, 0, 2]'),\n",
       " Text(283.2923076923077, 21.744, 'gini = 0.0\\nsamples = 1\\nvalue = [0, 1, 0]'),\n",
       " Text(309.04615384615386, 65.232, 'gini = 0.0\\nsamples = 32\\nvalue = [0, 0, 32]')]"
      ]
     },
     "execution_count": 13,
     "metadata": {},
     "output_type": "execute_result"
    },
    {
     "data": {
      "image/png": "[encoded data removed]",
      "text/plain": [
       "<Figure size 432x288 with 1 Axes>"
      ]
     },
     "metadata": {
      "needs_background": "light"
     },
     "output_type": "display_data"
    }
   ],
   "source": [
    "from sklearn.tree import plot_tree\n",
    "\n",
    "plot_tree(dt)"
   ]
  },
  {
   "cell_type": "markdown",
   "id": "27f07591",
   "metadata": {},
   "source": [
    "RANDOM FOREST ALGORITHM"
   ]
  },
  {
   "cell_type": "code",
   "execution_count": 14,
   "id": "3e7108dd",
   "metadata": {},
   "outputs": [],
   "source": [
    "from sklearn.ensemble import RandomForestClassifier"
   ]
  },
  {
   "cell_type": "code",
   "execution_count": 15,
   "id": "a52d5886",
   "metadata": {},
   "outputs": [],
   "source": [
    "rf=RandomForestClassifier().fit(X_train,y_train)\n",
    "y_pred=rf.predict(X_test)\n"
   ]
  },
  {
   "cell_type": "code",
   "execution_count": 16,
   "id": "05170b14",
   "metadata": {},
   "outputs": [
    {
     "name": "stdout",
     "output_type": "stream",
     "text": [
      "                 precision    recall  f1-score   support\n",
      "\n",
      "    Iris-setosa       1.00      1.00      1.00        12\n",
      "Iris-versicolor       0.93      1.00      0.97        14\n",
      " Iris-virginica       1.00      0.92      0.96        12\n",
      "\n",
      "       accuracy                           0.97        38\n",
      "      macro avg       0.98      0.97      0.97        38\n",
      "   weighted avg       0.98      0.97      0.97        38\n",
      "\n"
     ]
    }
   ],
   "source": [
    "print(classification_report(y_pred, y_test))\n"
   ]
  },
  {
   "cell_type": "markdown",
   "id": "ac2910be",
   "metadata": {},
   "source": [
    "VOTING CLASSIFIER  "
   ]
  },
  {
   "cell_type": "code",
   "execution_count": 17,
   "id": "e22f0379",
   "metadata": {},
   "outputs": [],
   "source": [
    "from sklearn.ensemble import VotingClassifier\n",
    "from sklearn.metrics import accuracy_score\n"
   ]
  },
  {
   "cell_type": "code",
   "execution_count": 46,
   "id": "909a85ad",
   "metadata": {},
   "outputs": [
    {
     "name": "stdout",
     "output_type": "stream",
     "text": [
      "Hard Voting Score  0.97\n",
      "Soft Voting Score  0.97\n"
     ]
    }
   ],
   "source": [
    "\n",
    "# #  ensemble of models\n",
    "estimator = []\n",
    "estimator.append(('RFC', rf))\n",
    "estimator.append(('SVC', SVC(gamma ='auto', probability = True)))\n",
    "estimator.append(('DTC',dt))\n",
    "      \n",
    "# Voting Classifier with hard voting\n",
    "vot_hard = VotingClassifier(estimators = estimator, voting ='hard', weights=[1,1,2],flatten_transform=True)\n",
    "vot_hard.fit(X_train, y_train)\n",
    "y_pred = vot_hard.predict(X_test)\n",
    "  \n",
    "# using accuracy_score metric to predict accuracy\n",
    "score = accuracy_score(y_pred,y_test)\n",
    "print(\"Hard Voting Score % 0.2f\" % score)\n",
    "\n",
    "# Voting Classifier with soft voting\n",
    "vot_soft = VotingClassifier(estimators = estimator, voting ='soft',flatten_transform=True, weights=[2,2,2])\n",
    "vot_soft.fit(X_train, y_train)\n",
    "y_pred = vot_soft.predict(X_test)\n",
    "  \n",
    "# using accuracy_score\n",
    "score = accuracy_score(y_pred,y_test)\n",
    "print(\"Soft Voting Score % 0.2f\" % score)\n"
   ]
  },
  {
   "cell_type": "code",
   "execution_count": 32,
   "id": "4ba764d0",
   "metadata": {},
   "outputs": [
    {
     "name": "stdout",
     "output_type": "stream",
     "text": [
      "Accuracy of each Algorithm:\n",
      "\n",
      "Accuracy: 0.92 (+/- 0.06) [Support Vector]\n",
      "Accuracy: 0.97 (+/- 0.05) [Random Forest]\n",
      "Accuracy: 0.97 (+/- 0.05) [Decision Tree]\n"
     ]
    }
   ],
   "source": [
    "from sklearn import model_selection\n",
    "\n",
    "print('Accuracy of each Algorithm:\\n')\n",
    "\n",
    "labels = ['Support Vector', 'Random Forest', 'Decision Tree']\n",
    "\n",
    "for clf, label in zip([svm, rf, dt], labels):\n",
    "    scores = model_selection.cross_val_score(clf, X_test, y_test,cv=5,scoring='accuracy')\n",
    "    print(\"Accuracy: %0.2f (+/- %0.2f) [%s]\"% (scores.mean(), scores.std(), label))\n",
    "    \n"
   ]
  },
  {
   "cell_type": "code",
   "execution_count": null,
   "id": "dd97675f",
   "metadata": {},
   "outputs": [],
   "source": []
  }
 ],
 "metadata": {
  "kernelspec": {
   "display_name": "Python 3 (ipykernel)",
   "language": "python",
   "name": "python3"
  },
  "language_info": {
   "codemirror_mode": {
    "name": "ipython",
    "version": 3
   },
   "file_extension": ".py",
   "mimetype": "text/x-python",
   "name": "python",
   "nbconvert_exporter": "python",
   "pygments_lexer": "ipython3",
   "version": "3.9.7"
  }
 },
 "nbformat": 4,
 "nbformat_minor": 5
}
